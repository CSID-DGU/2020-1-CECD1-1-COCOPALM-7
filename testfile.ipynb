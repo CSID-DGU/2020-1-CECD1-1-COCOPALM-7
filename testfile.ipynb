{
 "cells": [
  {
   "cell_type": "code",
   "execution_count": 3,
   "metadata": {
    "scrolled": true
   },
   "outputs": [],
   "source": [
    "from bs4 import BeautifulSoup\n",
    "from selenium import webdriver  #chrome webdriver 다운로드 필요\n",
    "from konlpy.tag import Kkma\n",
    "import time\n",
    "import pymysql\n",
    "\n",
    "kkma = Kkma()\n",
    "result_list = []\n",
    " \n",
    "driver = webdriver.Chrome(\"C:/Users/chlxo/Desktop/chromedriver\")\n",
    "driver.implicitly_wait(3)\n",
    "\n",
    "\n",
    "#driver.get(\"http://www.naver.com\")\n",
    "\n",
    "driver.get( \"https://www1.president.go.kr/petitions/best?page=1\" )\n",
    "html = driver.page_source \n",
    "#print( html )\n",
    "\n",
    "soup = BeautifulSoup( html, 'html.parser' )\n",
    "for d in soup.select(\"#cont_view > div.cs_area > div > div > div.board.text > div.b_list.category > div.bl_body > ul > li\"):\n",
    "    result_list += [ s for s in kkma.nouns( d.find(\"div\", class_ = \"bl_subject\" ).text[3:].strip() ) if len(s) > 1 ]\n",
    "\n",
    "time.sleep(1)\n",
    "driver.close()"
   ]
  },
  {
   "cell_type": "code",
   "execution_count": 5,
   "metadata": {},
   "outputs": [
    {
     "name": "stdout",
     "output_type": "stream",
     "text": [
      "((1, '텔레그램'), (2, '그램'), (3, '가입자'), (4, '전원'), (5, '신상'), (6, '신상공개'), (7, '공개'), (8, '렌트카'), (9, '사망'), (10, '사망사고'), (11, '사고'), (12, '10'), (13, '10대'), (14, '엄중'), (15, '처벌'), (16, '가해자'), (17, '방박사'), (18, '박사'), (19, '방회원'), (20, '회원'), (21, '모두'), (22, '처벌'), (23, '저희'), (24, '25'), (25, '25개월딸'), (26, '개월'), (27, '초등학생'), (28, '5학년'), (29, '학년'), (30, '성폭행'), (31, '박사'), (32, '박사방'), (33, '회원'), (34, '여아'), (35, '여아살해모의'), (36, '살해'), (37, '모의'), (38, '공익'), (39, '공익근무요원'), (40, '근무'), (41, '요원'), (42, '신상'), (43, '신상공개'), (44, '공개'), (45, '대화'), (46, '참여자'), (47, '명단'), (48, '공개'), (49, '처벌'), (50, '담당'), (51, '담당판사'), (52, '판사'), (53, '오덕식'), (54, '판사자리'), (55, '자리'), (56, '반대'), (57, '자격'), (58, '자격박탈'), (59, '박탈'), (60, '청원'), (61, '수출'), (62, '코로나'), (63, '코로나19'), (64, '19'), (65, '키트'), (66, '이름'), (67, '독도'), (68, '오늘'), (69, '합동'), (70, '강간'), (71, '성년자'), (72, '고발'), (73, '초등학생'), (74, '성폭행'), (75, '불법'), (76, '불법촬영물'), (77, '촬영'), (78, '협박'), (79, '금품'), (80, '갈취'), (81, '인생'), (82, '고등학생'), (83, '민식이'), (84, '식이'), (85, '개정'), (86, '청원'), (87, '텔레그램'), (88, '그램'), (89, '사건'), (90, '특별'), (91, '특별조사팀'), (92, '조사'), (93, '지현'), (94, '검사'), (95, '필두'), (96, '80'), (97, '이상'), (98, '여성'), (99, '조사팀으'), (100, '아동'), (101, '성착취'), (102, '착취'), (103, '동영상'), (104, '유통'), (105, '다크'), (106, '다크웹'), (107, '손모'), (108, '손모씨'), (109, '미국'), (110, '법무부'), (111, '강제'), (112, '강제송환'), (113, '송환'), (114, '실행'), (115, '자가'), (116, '자가격리'), (117, '격리'), (118, '제주'), (119, '제주도'), (120, '4박5일'), (121, '여행'), (122, '미국'), (123, '미국유학생'), (124, '유학생'), (125, '강남'), (126, '강남구'), (127, '진자'), (128, '처벌'), (129, '고아'), (130, '초등학생'), (131, '소송'), (132, '보험'), (133, '보험회사'), (134, '회사'))\n"
     ]
    }
   ],
   "source": [
    "# 접속\n",
    "db = pymysql.connect(host='127.0.0.1', port=3306, user='root', passwd='6889', db='exam', charset='utf8', autocommit=True)\n",
    "\n",
    "# 커서 가져오기\n",
    "cursor = db.cursor()\n",
    "\n",
    "\n",
    "\n",
    "# sql = '''\n",
    "#             INSERT INTO textTable\n",
    "#             (word)\n",
    "#             VALUES(%s);\n",
    "#         '''\n",
    "sql = \"select * from textTable\"\n",
    "cursor.execute(sql)\n",
    " \n",
    "result = cursor.fetchall()\n",
    "print(result)\n",
    "\n",
    "# cursor.executemany(sql,result_list)\n",
    "\n",
    "db.commit()\n",
    "db.close()"
   ]
  },
  {
   "cell_type": "code",
   "execution_count": null,
   "metadata": {
    "collapsed": true
   },
   "outputs": [],
   "source": []
  }
 ],
 "metadata": {
  "kernelspec": {
   "display_name": "Python 3",
   "language": "python",
   "name": "python3"
  },
  "language_info": {
   "codemirror_mode": {
    "name": "ipython",
    "version": 3
   },
   "file_extension": ".py",
   "mimetype": "text/x-python",
   "name": "python",
   "nbconvert_exporter": "python",
   "pygments_lexer": "ipython3",
   "version": "3.6.1"
  }
 },
 "nbformat": 4,
 "nbformat_minor": 2
}
