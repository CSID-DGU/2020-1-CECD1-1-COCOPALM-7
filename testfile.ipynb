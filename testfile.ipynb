{
 "cells": [
  {
   "cell_type": "code",
   "execution_count": 3,
   "metadata": {
    "collapsed": true,
    "scrolled": true
   },
   "outputs": [],
   "source": [
    "from bs4 import BeautifulSoup\n",
    "from selenium import webdriver  #chrome webdriver 다운로드 필요\n",
    "from konlpy.tag import Kkma\n",
    "import time\n",
    "import pymysql\n",
    "\n",
    "kkma = Kkma()\n",
    "result_list = []\n",
    " \n",
    "driver = webdriver.Chrome(\"C:/Users/chlxo/Desktop/chromedriver\")\n",
    "driver.implicitly_wait(3)\n",
    "\n",
    "\n",
    "#driver.get(\"http://www.naver.com\")\n",
    "\n",
    "driver.get( \"https://www1.president.go.kr/petitions/best?page=1\" )\n",
    "html = driver.page_source \n",
    "#print( html )\n",
    "\n",
    "soup = BeautifulSoup( html, 'html.parser' )\n",
    "for d in soup.select(\"#cont_view > div.cs_area > div > div > div.board.text > div.b_list.category > div.bl_body > ul > li\"):\n",
    "    result_list += [ s for s in kkma.nouns( d.find(\"div\", class_ = \"bl_subject\" ).text[3:].strip() ) if len(s) > 1 ]\n",
    "\n",
    "time.sleep(1)\n",
    "driver.close()"
   ]
  },
  {
   "cell_type": "code",
   "execution_count": 21,
   "metadata": {},
   "outputs": [
    {
     "name": "stdout",
     "output_type": "stream",
     "text": [
      "['기타', '안전/환경', '인권/성평등', '인권/성평등', '기타', '문화/예술/체육/언론', '행정', '기타', '교통/건축/국토', '인권/성평등', '육아/교육', '행정', '정치개혁', '인권/성평등', '인권/성평등']\n"
     ]
    }
   ],
   "source": [
    "from bs4 import BeautifulSoup\n",
    "from selenium import webdriver  #chrome webdriver 다운로드 필요\n",
    "from konlpy.tag import Kkma\n",
    "import time\n",
    "import re\n",
    "\n",
    "kkma = Kkma()\n",
    "category = []\n",
    "\n",
    "driver = webdriver.Chrome(\"C:/Users/chlxo/Desktop/chromedriver\")\n",
    "driver.implicitly_wait(3)\n",
    "\n",
    "\n",
    "#driver.get(\"http://www.naver.com\")\n",
    "\n",
    "driver.get( \"https://www1.president.go.kr/petitions/best?page=1\")\n",
    "html = driver.page_source \n",
    "#print( html )\n",
    "\n",
    "soup = BeautifulSoup( html, 'html.parser')\n",
    "for d in soup.select(\"#cont_view > div.cs_area > div > div > div.board.text > div.b_list.category > div.bl_body > ul > li\"):\n",
    "    category += [ d.find(\"div\", class_ = \"bl_category cs\").text[3:].strip()]\n",
    "\n",
    "time.sleep(1)\n",
    "driver.close()\n",
    "\n",
    "print(category)"
   ]
  },
  {
   "cell_type": "code",
   "execution_count": 47,
   "metadata": {},
   "outputs": [
    {
     "name": "stdout",
     "output_type": "stream",
     "text": [
      "['20200502000000', '20200428000000', '20200426000000', '20200428000000', '20200424000000', '20200507000000', '20200426000000', '20200501000000', '20200516000000', '20200425000000', '20200507000000', '20200425000000', '20200502000000', '20200501000000', '20200424000000']\n",
      "['20200402000000', '20200329000000', '20200327000000', '20200329000000', '20200325000000', '20200407000000', '20200327000000', '20200401000000', '20200416000000', '20200326000000', '20200407000000', '20200326000000', '20200402000000', '20200401000000', '20200325000000']\n"
     ]
    }
   ],
   "source": [
    "from datetime import datetime, timedelta\n",
    "\n",
    "end_date = []\n",
    "start_date = []\n",
    "\n",
    "driver = webdriver.Chrome(\"C:/Users/chlxo/Desktop/chromedriver\")\n",
    "driver.implicitly_wait(3)\n",
    "driver.get( \"https://www1.president.go.kr/petitions/best?page=1\")\n",
    "html = driver.page_source \n",
    "soup = BeautifulSoup( html, 'html.parser')\n",
    "for d in soup.select(\"#cont_view > div.cs_area > div > div > div.board.text > div.b_list.category > div.bl_body > ul > li\"):\n",
    "    date_data = '20'+re.sub('[\\D]', '', d.find(\"div\", class_ = \"bl_date light\").text.strip())+'000000'\n",
    "    end_date += [date_data]\n",
    "    start_date += [re.sub('[\\D]','',str(datetime(int(date_data[0:4]),int(date_data[4:6]),int(date_data[6:8]))+timedelta(days=-30)))]\n",
    "\n",
    "time.sleep(1)\n",
    "driver.close()\n",
    "print(end_date)\n",
    "print(start_date)"
   ]
  },
  {
   "cell_type": "code",
   "execution_count": 53,
   "metadata": {},
   "outputs": [
    {
     "name": "stdout",
     "output_type": "stream",
     "text": [
      "['976089', '514491', '464528', '387482', '385322', '258354', '206285', '154779', '133194', '114403', '111671', '101037', '80985', '71663', '70255']\n"
     ]
    }
   ],
   "source": [
    "agree_count = []\n",
    "\n",
    "driver = webdriver.Chrome(\"C:/Users/chlxo/Desktop/chromedriver\")\n",
    "driver.implicitly_wait(3)\n",
    "driver.get( \"https://www1.president.go.kr/petitions/best?page=1\")\n",
    "html = driver.page_source \n",
    "soup = BeautifulSoup( html, 'html.parser')\n",
    "for d in soup.select(\"#cont_view > div.cs_area > div > div > div.board.text > div.b_list.category > div.bl_body > ul > li\"):\n",
    "    agree_count += [re.sub('[\\D]','',d.find(\"div\", class_ = \"bl_agree cb wv_agree\").text.strip())]\n",
    "\n",
    "time.sleep(1)\n",
    "driver.close()\n",
    "print(agree_count)"
   ]
  },
  {
   "cell_type": "code",
   "execution_count": 54,
   "metadata": {},
   "outputs": [
    {
     "name": "stdout",
     "output_type": "stream",
     "text": [
      "['렌트카 훔쳐 사망사고를 낸 10대 엄중 처벌해주세요', '박사방 회원 중 여아살해모의한 공익근무요원 신상공개를 원합니다.', 'N번방 담당판사 오덕식을 판사자리에 반대,자격박탈을 청원합니다.', '“오늘 너 킬(KILL)한다”라며 술을 먹이고 제 딸을 합동 강간한 미성년자들을 고발합니다…', '수출용 코로나19 진단키트 이름을 독도로 해주세요', '방송통신위원회는 방송의 공적 책임 방기하고  언론이기를 포기한 채널A와 TV조선의 재승인을…', '자가격리를 어기고 제주도 4박5일 여행.미국유학생 강남구 **번 확진자 처벌해주세요', '세월호 전면재수사', '서울 강남구 재건축 지역에 탈북자 새터민 아파트 의무비율로 법제화 시켜주세요.', '범죄의 온상인 일간베스트 사이트 폐쇄를 청원합니다.', '코로나때문에 3살아이를 폭행했다는 어린이집 원장', '권영진 대구시장을 주민소환제에 회부하며 대구시의 코로나19 정부예산과 성금 사용에 대한 감…', '유시민 이사장 비위 달라며 가족을 인질로 협박한 채널A 기자와 검사장을 처벌해주시고 윤석열…', '마취 중인 환자에게 변태 행위를 한 대형병원 산부인과 인턴 - 국민의 안전을 위해 병원 공…', \"n번방을 잇는 '지인능욕' 가해자들을 조사 해주세요.\"]\n"
     ]
    }
   ],
   "source": [
    "title = []\n",
    "\n",
    "driver = webdriver.Chrome(\"C:/Users/chlxo/Desktop/chromedriver\")\n",
    "driver.implicitly_wait(3)\n",
    "driver.get( \"https://www1.president.go.kr/petitions/best?page=1\" )\n",
    "html = driver.page_source \n",
    "soup = BeautifulSoup( html, 'html.parser' )\n",
    "for d in soup.select(\"#cont_view > div.cs_area > div > div > div.board.text > div.b_list.category > div.bl_body > ul > li\"):\n",
    "    title += [d.find(\"div\", class_ = \"bl_subject\").text[3:].strip()]\n",
    "\n",
    "time.sleep(1)\n",
    "driver.close()\n",
    "print(title)"
   ]
  },
  {
   "cell_type": "code",
   "execution_count": 64,
   "metadata": {},
   "outputs": [
    {
     "name": "stdout",
     "output_type": "stream",
     "text": [
      "['587624', '587335', '587323', '587352', '587169', '587827', '587334', '587604', '588116', '587212', '587867', '587240', '587657', '587578', '587166']\n"
     ]
    }
   ],
   "source": [
    "post_id = []\n",
    "\n",
    "driver = webdriver.Chrome(\"C:/Users/chlxo/Desktop/chromedriver\")\n",
    "driver.implicitly_wait(3)\n",
    "driver.get( \"https://www1.president.go.kr/petitions/best?page=1\")\n",
    "html = driver.page_source \n",
    "soup = BeautifulSoup( html, 'html.parser')\n",
    "for d in soup.select(\"#cont_view > div.cs_area > div > div > div.board.text > div.b_list.category > div.bl_body > ul > li\"):\n",
    "    post_id += [re.sub('[\\D]','',d.find(\"a\", class_ = \"cb\").attrs['href'])]\n",
    "\n",
    "time.sleep(1)\n",
    "driver.close()\n",
    "print(post_id)"
   ]
  },
  {
   "cell_type": "code",
   "execution_count": 73,
   "metadata": {},
   "outputs": [
    {
     "name": "stdout",
     "output_type": "stream",
     "text": [
      "[['587624', '587335', '587323', '587352', '587169', '587827', '587334', '587604', '588116', '587212', '587867', '587240', '587657', '587578', '587166'], ['기타', '안전/환경', '인권/성평등', '인권/성평등', '기타', '문화/예술/체육/언론', '행정', '기타', '교통/건축/국토', '인권/성평등', '육아/교육', '행정', '정치개혁', '인권/성평등', '인권/성평등'], ['렌트카 훔쳐 사망사고를 낸 10대 엄중 처벌해주세요', '박사방 회원 중 여아살해모의한 공익근무요원 신상공개를 원합니다.', 'N번방 담당판사 오덕식을 판사자리에 반대,자격박탈을 청원합니다.', '“오늘 너 킬(KILL)한다”라며 술을 먹이고 제 딸을 합동 강간한 미성년자들을 고발합니다…', '수출용 코로나19 진단키트 이름을 독도로 해주세요', '방송통신위원회는 방송의 공적 책임 방기하고  언론이기를 포기한 채널A와 TV조선의 재승인을…', '자가격리를 어기고 제주도 4박5일 여행.미국유학생 강남구 **번 확진자 처벌해주세요', '세월호 전면재수사', '서울 강남구 재건축 지역에 탈북자 새터민 아파트 의무비율로 법제화 시켜주세요.', '범죄의 온상인 일간베스트 사이트 폐쇄를 청원합니다.', '코로나때문에 3살아이를 폭행했다는 어린이집 원장', '권영진 대구시장을 주민소환제에 회부하며 대구시의 코로나19 정부예산과 성금 사용에 대한 감…', '유시민 이사장 비위 달라며 가족을 인질로 협박한 채널A 기자와 검사장을 처벌해주시고 윤석열…', '마취 중인 환자에게 변태 행위를 한 대형병원 산부인과 인턴 - 국민의 안전을 위해 병원 공…', \"n번방을 잇는 '지인능욕' 가해자들을 조사 해주세요.\"], ['976089', '514491', '464528', '387482', '385322', '258354', '206285', '154779', '133194', '114403', '111671', '101037', '80985', '71663', '70255'], ['20200402000000', '20200329000000', '20200327000000', '20200329000000', '20200325000000', '20200407000000', '20200327000000', '20200401000000', '20200416000000', '20200326000000', '20200407000000', '20200326000000', '20200402000000', '20200401000000', '20200325000000'], ['20200502000000', '20200428000000', '20200426000000', '20200428000000', '20200424000000', '20200507000000', '20200426000000', '20200501000000', '20200516000000', '20200425000000', '20200507000000', '20200425000000', '20200502000000', '20200501000000', '20200424000000']]\n"
     ]
    }
   ],
   "source": [
    "input_data = [post_id, category, title, agree_count, start_date, end_date]\n",
    "\n",
    "print(input_data)"
   ]
  },
  {
   "cell_type": "code",
   "execution_count": 87,
   "metadata": {},
   "outputs": [
    {
     "name": "stdout",
     "output_type": "stream",
     "text": [
      "((-1, '시험시험', '제목제목', 300, datetime.datetime(2020, 4, 23, 11, 11, 11), datetime.datetime(2020, 4, 25, 22, 22, 22)), (587166, '인권/성평등', \"n번방을 잇는 '지인능욕' 가해자들을 조사 해주세요.\", 70255, datetime.datetime(2020, 3, 25, 0, 0), datetime.datetime(2020, 4, 24, 0, 0)), (587169, '기타', '수출용 코로나19 진단키트 이름을 독도로 해주세요', 385322, datetime.datetime(2020, 3, 25, 0, 0), datetime.datetime(2020, 4, 24, 0, 0)), (587212, '인권/성평등', '범죄의 온상인 일간베스트 사이트 폐쇄를 청원합니다.', 114403, datetime.datetime(2020, 3, 26, 0, 0), datetime.datetime(2020, 4, 25, 0, 0)), (587240, '행정', '권영진 대구시장을 주민소환제에 회부하며 대구시의 코로나19 정부예산과 성금 사용에 대한 감…', 101037, datetime.datetime(2020, 3, 26, 0, 0), datetime.datetime(2020, 4, 25, 0, 0)), (587323, '인권/성평등', 'N번방 담당판사 오덕식을 판사자리에 반대,자격박탈을 청원합니다.', 464528, datetime.datetime(2020, 3, 27, 0, 0), datetime.datetime(2020, 4, 26, 0, 0)), (587334, '행정', '자가격리를 어기고 제주도 4박5일 여행.미국유학생 강남구 **번 확진자 처벌해주세요', 206285, datetime.datetime(2020, 3, 27, 0, 0), datetime.datetime(2020, 4, 26, 0, 0)), (587335, '안전/환경', '박사방 회원 중 여아살해모의한 공익근무요원 신상공개를 원합니다.', 514491, datetime.datetime(2020, 3, 29, 0, 0), datetime.datetime(2020, 4, 28, 0, 0)), (587352, '인권/성평등', '“오늘 너 킬(KILL)한다”라며 술을 먹이고 제 딸을 합동 강간한 미성년자들을 고발합니다…', 387482, datetime.datetime(2020, 3, 29, 0, 0), datetime.datetime(2020, 4, 28, 0, 0)), (587578, '인권/성평등', '마취 중인 환자에게 변태 행위를 한 대형병원 산부인과 인턴 - 국민의 안전을 위해 병원 공…', 71663, datetime.datetime(2020, 4, 1, 0, 0), datetime.datetime(2020, 5, 1, 0, 0)), (587604, '기타', '세월호 전면재수사', 154779, datetime.datetime(2020, 4, 1, 0, 0), datetime.datetime(2020, 5, 1, 0, 0)), (587624, '기타', '렌트카 훔쳐 사망사고를 낸 10대 엄중 처벌해주세요', 976089, datetime.datetime(2020, 4, 2, 0, 0), datetime.datetime(2020, 5, 2, 0, 0)), (587657, '정치개혁', '유시민 이사장 비위 달라며 가족을 인질로 협박한 채널A 기자와 검사장을 처벌해주시고 윤석열…', 80985, datetime.datetime(2020, 4, 2, 0, 0), datetime.datetime(2020, 5, 2, 0, 0)), (587827, '문화/예술/체육/언론', '방송통신위원회는 방송의 공적 책임 방기하고  언론이기를 포기한 채널A와 TV조선의 재승인을…', 258354, datetime.datetime(2020, 4, 7, 0, 0), datetime.datetime(2020, 5, 7, 0, 0)), (587867, '육아/교육', '코로나때문에 3살아이를 폭행했다는 어린이집 원장', 111671, datetime.datetime(2020, 4, 7, 0, 0), datetime.datetime(2020, 5, 7, 0, 0)), (588116, '교통/건축/국토', '서울 강남구 재건축 지역에 탈북자 새터민 아파트 의무비율로 법제화 시켜주세요.', 133194, datetime.datetime(2020, 4, 16, 0, 0), datetime.datetime(2020, 5, 16, 0, 0)))\n"
     ]
    }
   ],
   "source": [
    "import pymysql\n",
    "# 접속\n",
    "db = pymysql.connect(host='127.0.0.1', port=3306, user='root', passwd='6889', db='exam', charset='utf8', autocommit=True)\n",
    "\n",
    "# 커서 가져오기\n",
    "cursor = db.cursor()\n",
    "\n",
    "input_data = [post_id, category, title, agree_count, start_date, end_date]\n",
    "\n",
    "# sql = '''\n",
    "#             INSERT INTO post\n",
    "#             (post_id, category, title, agree_count, start_date, end_date)\n",
    "#             VALUES(%s, %s, %s, %s, %s, %s);\n",
    "#         '''\n",
    "sql = \"select * from post\"\n",
    "\n",
    "cursor.execute(sql)\n",
    " \n",
    "result = cursor.fetchall()\n",
    "print(result)\n",
    "\n",
    "# cursor.executemany(sql,[*zip(*input_data)])\n",
    "\n",
    "db.commit()\n",
    "db.close()"
   ]
  },
  {
   "cell_type": "code",
   "execution_count": null,
   "metadata": {
    "collapsed": true
   },
   "outputs": [],
   "source": []
  }
 ],
 "metadata": {
  "kernelspec": {
   "display_name": "Python 3",
   "language": "python",
   "name": "python3"
  },
  "language_info": {
   "codemirror_mode": {
    "name": "ipython",
    "version": 3
   },
   "file_extension": ".py",
   "mimetype": "text/x-python",
   "name": "python",
   "nbconvert_exporter": "python",
   "pygments_lexer": "ipython3",
   "version": "3.6.1"
  }
 },
 "nbformat": 4,
 "nbformat_minor": 2
}
